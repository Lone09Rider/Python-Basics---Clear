{
 "cells": [
  {
   "cell_type": "markdown",
   "id": "286ed31c",
   "metadata": {},
   "source": [
    "# Stack is Like adding elements in end and remove from end : You can assume google back and Front buttons to Navigate"
   ]
  },
  {
   "cell_type": "code",
   "execution_count": 1,
   "id": "8704e7c0",
   "metadata": {},
   "outputs": [],
   "source": [
    "browsing_session = []"
   ]
  },
  {
   "cell_type": "code",
   "execution_count": 2,
   "id": "8cf31dcd",
   "metadata": {},
   "outputs": [],
   "source": [
    "browsing_session.append(1)"
   ]
  },
  {
   "cell_type": "code",
   "execution_count": 3,
   "id": "95e2630c",
   "metadata": {},
   "outputs": [],
   "source": [
    "browsing_session.append(2)"
   ]
  },
  {
   "cell_type": "code",
   "execution_count": 4,
   "id": "44531bdf",
   "metadata": {},
   "outputs": [],
   "source": [
    "browsing_session.append(3)"
   ]
  },
  {
   "cell_type": "code",
   "execution_count": 5,
   "id": "cbeb3fe2",
   "metadata": {},
   "outputs": [
    {
     "name": "stdout",
     "output_type": "stream",
     "text": [
      "[1, 2, 3]\n"
     ]
    }
   ],
   "source": [
    "print(browsing_session)"
   ]
  },
  {
   "cell_type": "code",
   "execution_count": 6,
   "id": "b3dd18f9",
   "metadata": {},
   "outputs": [],
   "source": [
    "last = browsing_session.pop()"
   ]
  },
  {
   "cell_type": "code",
   "execution_count": 7,
   "id": "c2fd9af1",
   "metadata": {},
   "outputs": [
    {
     "data": {
      "text/plain": [
       "3"
      ]
     },
     "execution_count": 7,
     "metadata": {},
     "output_type": "execute_result"
    }
   ],
   "source": [
    "last"
   ]
  },
  {
   "cell_type": "code",
   "execution_count": 8,
   "id": "01b3c5ee",
   "metadata": {},
   "outputs": [],
   "source": [
    "if not browsing_session:\n",
    "    print(\"dissable\")"
   ]
  },
  {
   "cell_type": "code",
   "execution_count": 9,
   "id": "66e78337",
   "metadata": {},
   "outputs": [
    {
     "name": "stdout",
     "output_type": "stream",
     "text": [
      "redirect 2\n"
     ]
    }
   ],
   "source": [
    "print(\"redirect\", browsing_session[-1])"
   ]
  },
  {
   "cell_type": "code",
   "execution_count": null,
   "id": "7b03f1a0",
   "metadata": {},
   "outputs": [],
   "source": []
  },
  {
   "cell_type": "markdown",
   "id": "22450c2a",
   "metadata": {},
   "source": [
    "# Queues : Removing From Beginning"
   ]
  },
  {
   "cell_type": "code",
   "execution_count": 10,
   "id": "c838d1ea",
   "metadata": {},
   "outputs": [],
   "source": [
    "from collections import deque"
   ]
  },
  {
   "cell_type": "code",
   "execution_count": 11,
   "id": "0dd6cf24",
   "metadata": {},
   "outputs": [],
   "source": [
    "queue = deque([])"
   ]
  },
  {
   "cell_type": "code",
   "execution_count": 12,
   "id": "2c3d80ac",
   "metadata": {},
   "outputs": [],
   "source": [
    "queue.append(1)\n",
    "queue.append(2)\n",
    "queue.append(3)\n",
    "queue.append(4)"
   ]
  },
  {
   "cell_type": "code",
   "execution_count": 13,
   "id": "8212ef04",
   "metadata": {},
   "outputs": [
    {
     "data": {
      "text/plain": [
       "deque([1, 2, 3, 4])"
      ]
     },
     "execution_count": 13,
     "metadata": {},
     "output_type": "execute_result"
    }
   ],
   "source": [
    "queue"
   ]
  },
  {
   "cell_type": "code",
   "execution_count": 14,
   "id": "c68351fa",
   "metadata": {},
   "outputs": [
    {
     "name": "stdout",
     "output_type": "stream",
     "text": [
      "deque([2, 3, 4])\n"
     ]
    }
   ],
   "source": [
    "queue.popleft()\n",
    "print(queue)"
   ]
  },
  {
   "cell_type": "code",
   "execution_count": 15,
   "id": "c1718a38",
   "metadata": {},
   "outputs": [],
   "source": [
    "if not queue:\n",
    "    print(\"Empty\")"
   ]
  },
  {
   "cell_type": "code",
   "execution_count": null,
   "id": "3cba2817",
   "metadata": {},
   "outputs": [],
   "source": []
  }
 ],
 "metadata": {
  "kernelspec": {
   "display_name": "Python 3 (ipykernel)",
   "language": "python",
   "name": "python3"
  },
  "language_info": {
   "codemirror_mode": {
    "name": "ipython",
    "version": 3
   },
   "file_extension": ".py",
   "mimetype": "text/x-python",
   "name": "python",
   "nbconvert_exporter": "python",
   "pygments_lexer": "ipython3",
   "version": "3.9.7"
  }
 },
 "nbformat": 4,
 "nbformat_minor": 5
}
