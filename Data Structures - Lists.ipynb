{
 "cells": [
  {
   "cell_type": "markdown",
   "id": "2e8b7869",
   "metadata": {},
   "source": [
    "# 1. List"
   ]
  },
  {
   "cell_type": "code",
   "execution_count": 1,
   "id": "14ed2b1e",
   "metadata": {},
   "outputs": [],
   "source": [
    "letters = [\"a\", \"b\", \"c\"]\n",
    "list_of_list = [[0, 1], [2, 3], [4, 5]]\n",
    "mulvar_list = [1, \"a\", 1.6, [1, 2, 3]]"
   ]
  },
  {
   "cell_type": "code",
   "execution_count": 2,
   "id": "9f181e2a",
   "metadata": {},
   "outputs": [
    {
     "data": {
      "text/plain": [
       "['a', 'b', 'c']"
      ]
     },
     "execution_count": 2,
     "metadata": {},
     "output_type": "execute_result"
    }
   ],
   "source": [
    "letters"
   ]
  },
  {
   "cell_type": "code",
   "execution_count": 3,
   "id": "ab767929",
   "metadata": {},
   "outputs": [
    {
     "data": {
      "text/plain": [
       "[[0, 1], [2, 3], [4, 5]]"
      ]
     },
     "execution_count": 3,
     "metadata": {},
     "output_type": "execute_result"
    }
   ],
   "source": [
    "list_of_list"
   ]
  },
  {
   "cell_type": "code",
   "execution_count": 4,
   "id": "a7d16bb8",
   "metadata": {},
   "outputs": [
    {
     "data": {
      "text/plain": [
       "[1, 'a', 1.6, [1, 2, 3]]"
      ]
     },
     "execution_count": 4,
     "metadata": {},
     "output_type": "execute_result"
    }
   ],
   "source": [
    "mulvar_list"
   ]
  },
  {
   "cell_type": "code",
   "execution_count": 5,
   "id": "f85b2869",
   "metadata": {},
   "outputs": [
    {
     "data": {
      "text/plain": [
       "[0, 0, 0, 0, 0]"
      ]
     },
     "execution_count": 5,
     "metadata": {},
     "output_type": "execute_result"
    }
   ],
   "source": [
    "zeroes = [0] * 5\n",
    "zeroes"
   ]
  },
  {
   "cell_type": "code",
   "execution_count": 6,
   "id": "14cbd5d3",
   "metadata": {},
   "outputs": [
    {
     "data": {
      "text/plain": [
       "[0, 1, 2, 3, 4, 5, 6, 7, 8, 9, 10, 11, 12, 13, 14, 15, 16, 17, 18, 19]"
      ]
     },
     "execution_count": 6,
     "metadata": {},
     "output_type": "execute_result"
    }
   ],
   "source": [
    "list(range(20))"
   ]
  },
  {
   "cell_type": "code",
   "execution_count": 7,
   "id": "3acddd56",
   "metadata": {},
   "outputs": [
    {
     "data": {
      "text/plain": [
       "['H', 'e', 'l', 'l', 'o', 'W', 'o', 'r', 'l', 'd']"
      ]
     },
     "execution_count": 7,
     "metadata": {},
     "output_type": "execute_result"
    }
   ],
   "source": [
    "string = \"HelloWorld\"\n",
    "str_list = list(string)\n",
    "str_list"
   ]
  },
  {
   "cell_type": "markdown",
   "id": "6714c069",
   "metadata": {},
   "source": [
    "### Accessing Items"
   ]
  },
  {
   "cell_type": "code",
   "execution_count": 8,
   "id": "f5ef1861",
   "metadata": {},
   "outputs": [
    {
     "data": {
      "text/plain": [
       "[1, 'a', 1.6, [1, 2, 3]]"
      ]
     },
     "execution_count": 8,
     "metadata": {},
     "output_type": "execute_result"
    }
   ],
   "source": [
    "mulvar_list"
   ]
  },
  {
   "cell_type": "code",
   "execution_count": 9,
   "id": "d512a409",
   "metadata": {},
   "outputs": [],
   "source": [
    "x = mulvar_list.copy()"
   ]
  },
  {
   "cell_type": "code",
   "execution_count": 10,
   "id": "994fbe92",
   "metadata": {},
   "outputs": [
    {
     "name": "stdout",
     "output_type": "stream",
     "text": [
      "[1, 'a', 1.6, [1, 2, 3]]\n"
     ]
    }
   ],
   "source": [
    "print(x)"
   ]
  },
  {
   "cell_type": "code",
   "execution_count": 11,
   "id": "4a8cd915",
   "metadata": {},
   "outputs": [
    {
     "data": {
      "text/plain": [
       "'a'"
      ]
     },
     "execution_count": 11,
     "metadata": {},
     "output_type": "execute_result"
    }
   ],
   "source": [
    "x[1]"
   ]
  },
  {
   "cell_type": "code",
   "execution_count": 12,
   "id": "9d8200a5",
   "metadata": {},
   "outputs": [
    {
     "data": {
      "text/plain": [
       "[1, 'a', 1.6, [1, 2, 3]]"
      ]
     },
     "execution_count": 12,
     "metadata": {},
     "output_type": "execute_result"
    }
   ],
   "source": [
    "x[:]"
   ]
  },
  {
   "cell_type": "code",
   "execution_count": 13,
   "id": "8fe87624",
   "metadata": {},
   "outputs": [
    {
     "data": {
      "text/plain": [
       "[1.6, [1, 2, 3]]"
      ]
     },
     "execution_count": 13,
     "metadata": {},
     "output_type": "execute_result"
    }
   ],
   "source": [
    "x[2:]"
   ]
  },
  {
   "cell_type": "code",
   "execution_count": 14,
   "id": "83c972f9",
   "metadata": {},
   "outputs": [
    {
     "data": {
      "text/plain": [
       "[1, 'a', 1.6]"
      ]
     },
     "execution_count": 14,
     "metadata": {},
     "output_type": "execute_result"
    }
   ],
   "source": [
    "x[:3]"
   ]
  },
  {
   "cell_type": "code",
   "execution_count": 15,
   "id": "34f9e198",
   "metadata": {},
   "outputs": [
    {
     "data": {
      "text/plain": [
       "[1, 1.6]"
      ]
     },
     "execution_count": 15,
     "metadata": {},
     "output_type": "execute_result"
    }
   ],
   "source": [
    "x[::2]"
   ]
  },
  {
   "cell_type": "code",
   "execution_count": 16,
   "id": "046afaf9",
   "metadata": {},
   "outputs": [
    {
     "data": {
      "text/plain": [
       "[[1, 2, 3], 1.6, 'a', 1]"
      ]
     },
     "execution_count": 16,
     "metadata": {},
     "output_type": "execute_result"
    }
   ],
   "source": [
    "x[::-1]"
   ]
  },
  {
   "cell_type": "code",
   "execution_count": 17,
   "id": "4a05138b",
   "metadata": {},
   "outputs": [
    {
     "data": {
      "text/plain": [
       "[[1, 2, 3], 'a']"
      ]
     },
     "execution_count": 17,
     "metadata": {},
     "output_type": "execute_result"
    }
   ],
   "source": [
    "x[::-2]"
   ]
  },
  {
   "cell_type": "code",
   "execution_count": 18,
   "id": "173a9209",
   "metadata": {},
   "outputs": [
    {
     "data": {
      "text/plain": [
       "[1, 'a', 1.6, [1, 2, 3]]"
      ]
     },
     "execution_count": 18,
     "metadata": {},
     "output_type": "execute_result"
    }
   ],
   "source": [
    "x"
   ]
  },
  {
   "cell_type": "code",
   "execution_count": 19,
   "id": "0634c892",
   "metadata": {},
   "outputs": [
    {
     "data": {
      "text/plain": [
       "1"
      ]
     },
     "execution_count": 19,
     "metadata": {},
     "output_type": "execute_result"
    }
   ],
   "source": [
    "x[-1][0]"
   ]
  },
  {
   "cell_type": "code",
   "execution_count": 20,
   "id": "770029fa",
   "metadata": {},
   "outputs": [
    {
     "data": {
      "text/plain": [
       "[1, 2, 3]"
      ]
     },
     "execution_count": 20,
     "metadata": {},
     "output_type": "execute_result"
    }
   ],
   "source": [
    "x[-1][:]"
   ]
  },
  {
   "cell_type": "code",
   "execution_count": 21,
   "id": "6b523f49",
   "metadata": {},
   "outputs": [
    {
     "data": {
      "text/plain": [
       "[3, 2, 1]"
      ]
     },
     "execution_count": 21,
     "metadata": {},
     "output_type": "execute_result"
    }
   ],
   "source": [
    "x[-1][::-1]"
   ]
  },
  {
   "cell_type": "code",
   "execution_count": 22,
   "id": "c4e54bfe",
   "metadata": {},
   "outputs": [
    {
     "data": {
      "text/plain": [
       "[3, 1]"
      ]
     },
     "execution_count": 22,
     "metadata": {},
     "output_type": "execute_result"
    }
   ],
   "source": [
    "x[-1][::-2]"
   ]
  },
  {
   "cell_type": "markdown",
   "id": "6c3866cc",
   "metadata": {},
   "source": [
    "### List Unpacking"
   ]
  },
  {
   "cell_type": "code",
   "execution_count": 23,
   "id": "8db1cefb",
   "metadata": {},
   "outputs": [],
   "source": [
    "numbers = [1, 2, 3]"
   ]
  },
  {
   "cell_type": "code",
   "execution_count": 24,
   "id": "2cd93844",
   "metadata": {},
   "outputs": [],
   "source": [
    "# Method 1\n",
    "first = numbers[0]\n",
    "second = numbers[1]\n",
    "third = numbers[2]"
   ]
  },
  {
   "cell_type": "code",
   "execution_count": 25,
   "id": "896e365c",
   "metadata": {},
   "outputs": [],
   "source": [
    "# Method 2\n",
    "first, second, third = numbers[0], numbers[1], numbers[2]"
   ]
  },
  {
   "cell_type": "code",
   "execution_count": 26,
   "id": "b2678e86",
   "metadata": {},
   "outputs": [
    {
     "data": {
      "text/plain": [
       "1"
      ]
     },
     "execution_count": 26,
     "metadata": {},
     "output_type": "execute_result"
    }
   ],
   "source": [
    "first"
   ]
  },
  {
   "cell_type": "code",
   "execution_count": 27,
   "id": "36d32547",
   "metadata": {},
   "outputs": [],
   "source": [
    "# Method 3\n",
    "first, second, third = numbers # But use same numbers of varibles"
   ]
  },
  {
   "cell_type": "code",
   "execution_count": 28,
   "id": "c2800f0c",
   "metadata": {},
   "outputs": [
    {
     "data": {
      "text/plain": [
       "3"
      ]
     },
     "execution_count": 28,
     "metadata": {},
     "output_type": "execute_result"
    }
   ],
   "source": [
    "third"
   ]
  },
  {
   "cell_type": "code",
   "execution_count": 29,
   "id": "bc83a693",
   "metadata": {},
   "outputs": [],
   "source": [
    "# Method 4\n",
    "x = [1, 2, 3, 4, 5, 6, 7, 8]\n",
    "first, second , *others = x"
   ]
  },
  {
   "cell_type": "code",
   "execution_count": 30,
   "id": "ba69b73f",
   "metadata": {},
   "outputs": [
    {
     "data": {
      "text/plain": [
       "[3, 4, 5, 6, 7, 8]"
      ]
     },
     "execution_count": 30,
     "metadata": {},
     "output_type": "execute_result"
    }
   ],
   "source": [
    "others"
   ]
  },
  {
   "cell_type": "code",
   "execution_count": 31,
   "id": "9d8d24ca",
   "metadata": {},
   "outputs": [
    {
     "data": {
      "text/plain": [
       "1"
      ]
     },
     "execution_count": 31,
     "metadata": {},
     "output_type": "execute_result"
    }
   ],
   "source": [
    "first"
   ]
  },
  {
   "cell_type": "code",
   "execution_count": 32,
   "id": "bffbc860",
   "metadata": {},
   "outputs": [],
   "source": [
    "# Args Kind\n",
    "def mul(*x):\n",
    "    pass\n",
    "mul(1, 2, 3, 4)"
   ]
  },
  {
   "cell_type": "markdown",
   "id": "62e610e5",
   "metadata": {},
   "source": [
    "### Loop Over Lists"
   ]
  },
  {
   "cell_type": "code",
   "execution_count": 33,
   "id": "0fee51e1",
   "metadata": {},
   "outputs": [],
   "source": [
    "letters = [\"a\", \"b\", \"c\"]"
   ]
  },
  {
   "cell_type": "code",
   "execution_count": 34,
   "id": "296694ec",
   "metadata": {},
   "outputs": [
    {
     "name": "stdout",
     "output_type": "stream",
     "text": [
      "a\n",
      "b\n",
      "c\n"
     ]
    }
   ],
   "source": [
    "for letter in letters:\n",
    "    print(letter)"
   ]
  },
  {
   "cell_type": "code",
   "execution_count": 35,
   "id": "648efe90",
   "metadata": {},
   "outputs": [
    {
     "name": "stdout",
     "output_type": "stream",
     "text": [
      "(0, 'a')\n",
      "(1, 'b')\n",
      "(2, 'c')\n"
     ]
    }
   ],
   "source": [
    "for letter in enumerate(letters):\n",
    "    print(letter)"
   ]
  },
  {
   "cell_type": "code",
   "execution_count": 36,
   "id": "e7c53d5b",
   "metadata": {},
   "outputs": [
    {
     "name": "stdout",
     "output_type": "stream",
     "text": [
      "0 a\n",
      "1 b\n",
      "2 c\n"
     ]
    }
   ],
   "source": [
    "for letter in enumerate(letters):\n",
    "    print(letter[0], letter[1])"
   ]
  },
  {
   "cell_type": "markdown",
   "id": "56141617",
   "metadata": {},
   "source": [
    "### Unpacking the tuple"
   ]
  },
  {
   "cell_type": "code",
   "execution_count": 37,
   "id": "16a70bc6",
   "metadata": {},
   "outputs": [
    {
     "name": "stdout",
     "output_type": "stream",
     "text": [
      "0 a\n",
      "1 b\n",
      "2 c\n"
     ]
    }
   ],
   "source": [
    "for index, letter in enumerate(letters):\n",
    "    print(index, letter)"
   ]
  },
  {
   "cell_type": "markdown",
   "id": "8c6a9468",
   "metadata": {},
   "source": [
    "## Add or Remove Items"
   ]
  },
  {
   "cell_type": "code",
   "execution_count": 38,
   "id": "72a01dff",
   "metadata": {},
   "outputs": [],
   "source": [
    "letters = [\"a\", \"b\", \"c\"]"
   ]
  },
  {
   "cell_type": "markdown",
   "id": "9894d21f",
   "metadata": {},
   "source": [
    "### 1. ADD"
   ]
  },
  {
   "cell_type": "code",
   "execution_count": 39,
   "id": "800b38e2",
   "metadata": {},
   "outputs": [
    {
     "data": {
      "text/plain": [
       "['a', 'b', 'c', 'd']"
      ]
     },
     "execution_count": 39,
     "metadata": {},
     "output_type": "execute_result"
    }
   ],
   "source": [
    "# At End\n",
    "letters.append(\"d\")\n",
    "letters"
   ]
  },
  {
   "cell_type": "code",
   "execution_count": 40,
   "id": "50155dd5",
   "metadata": {},
   "outputs": [
    {
     "data": {
      "text/plain": [
       "['-', 'a', 'b', 'c', 'd']"
      ]
     },
     "execution_count": 40,
     "metadata": {},
     "output_type": "execute_result"
    }
   ],
   "source": [
    "# At some particular Index\n",
    "letters.insert(0, \"-\")\n",
    "letters"
   ]
  },
  {
   "cell_type": "markdown",
   "id": "8bb365bb",
   "metadata": {},
   "source": [
    "### 2. Remove"
   ]
  },
  {
   "cell_type": "code",
   "execution_count": 41,
   "id": "44079c00",
   "metadata": {},
   "outputs": [
    {
     "data": {
      "text/plain": [
       "'d'"
      ]
     },
     "execution_count": 41,
     "metadata": {},
     "output_type": "execute_result"
    }
   ],
   "source": [
    "# From End\n",
    "letters.pop()"
   ]
  },
  {
   "cell_type": "code",
   "execution_count": 42,
   "id": "fd171c93",
   "metadata": {},
   "outputs": [
    {
     "data": {
      "text/plain": [
       "['-', 'a', 'b', 'c']"
      ]
     },
     "execution_count": 42,
     "metadata": {},
     "output_type": "execute_result"
    }
   ],
   "source": [
    "letters"
   ]
  },
  {
   "cell_type": "code",
   "execution_count": 43,
   "id": "5cd75883",
   "metadata": {},
   "outputs": [
    {
     "data": {
      "text/plain": [
       "'-'"
      ]
     },
     "execution_count": 43,
     "metadata": {},
     "output_type": "execute_result"
    }
   ],
   "source": [
    "# From a Index\n",
    "letters.pop(0)"
   ]
  },
  {
   "cell_type": "code",
   "execution_count": 44,
   "id": "dfdc987a",
   "metadata": {},
   "outputs": [
    {
     "data": {
      "text/plain": [
       "['a', 'b', 'c']"
      ]
     },
     "execution_count": 44,
     "metadata": {},
     "output_type": "execute_result"
    }
   ],
   "source": [
    "letters"
   ]
  },
  {
   "cell_type": "code",
   "execution_count": 45,
   "id": "bac5bd9d",
   "metadata": {},
   "outputs": [
    {
     "data": {
      "text/plain": [
       "['a', 'c']"
      ]
     },
     "execution_count": 45,
     "metadata": {},
     "output_type": "execute_result"
    }
   ],
   "source": [
    "# Particular Item\n",
    "letters.remove(\"b\")\n",
    "letters"
   ]
  },
  {
   "cell_type": "code",
   "execution_count": 46,
   "id": "3224124e",
   "metadata": {},
   "outputs": [],
   "source": [
    "x = [1, 2, 3, 4, 5, 6, 7, 8, 9]"
   ]
  },
  {
   "cell_type": "code",
   "execution_count": 47,
   "id": "e5e84327",
   "metadata": {},
   "outputs": [],
   "source": [
    "# Deleting item by Index\n",
    "del x[0]"
   ]
  },
  {
   "cell_type": "code",
   "execution_count": 48,
   "id": "10a9534a",
   "metadata": {},
   "outputs": [
    {
     "data": {
      "text/plain": [
       "[6, 7, 8, 9]"
      ]
     },
     "execution_count": 48,
     "metadata": {},
     "output_type": "execute_result"
    }
   ],
   "source": [
    "# Deleting Items by Giving a Range\n",
    "del x[0:4]\n",
    "x"
   ]
  },
  {
   "cell_type": "markdown",
   "id": "dd0f5ac4",
   "metadata": {},
   "source": [
    "## Remove all oblects From List"
   ]
  },
  {
   "cell_type": "code",
   "execution_count": 49,
   "id": "75152fc1",
   "metadata": {},
   "outputs": [],
   "source": [
    "x.clear()"
   ]
  },
  {
   "cell_type": "code",
   "execution_count": 50,
   "id": "e6b40e39",
   "metadata": {},
   "outputs": [
    {
     "data": {
      "text/plain": [
       "[]"
      ]
     },
     "execution_count": 50,
     "metadata": {},
     "output_type": "execute_result"
    }
   ],
   "source": [
    "x"
   ]
  },
  {
   "cell_type": "markdown",
   "id": "d49e526e",
   "metadata": {},
   "source": [
    "## Finding Object in Lists or Index"
   ]
  },
  {
   "cell_type": "code",
   "execution_count": 51,
   "id": "72b6b8fe",
   "metadata": {},
   "outputs": [],
   "source": [
    "letters = [\"a\", \"b\", \"c\"]"
   ]
  },
  {
   "cell_type": "code",
   "execution_count": 52,
   "id": "4c3ee8f8",
   "metadata": {},
   "outputs": [
    {
     "data": {
      "text/plain": [
       "0"
      ]
     },
     "execution_count": 52,
     "metadata": {},
     "output_type": "execute_result"
    }
   ],
   "source": [
    "letters.index(\"a\")"
   ]
  },
  {
   "cell_type": "code",
   "execution_count": 53,
   "id": "08da72ec",
   "metadata": {},
   "outputs": [
    {
     "data": {
      "text/plain": [
       "1"
      ]
     },
     "execution_count": 53,
     "metadata": {},
     "output_type": "execute_result"
    }
   ],
   "source": [
    "letters.count(\"a\")"
   ]
  },
  {
   "cell_type": "markdown",
   "id": "96239da1",
   "metadata": {},
   "source": [
    "## Sorting Lists"
   ]
  },
  {
   "cell_type": "code",
   "execution_count": 54,
   "id": "7fb21496",
   "metadata": {},
   "outputs": [],
   "source": [
    "x = [1, 2, 3, 2, 34, 5, 9, 89, 77, 99]"
   ]
  },
  {
   "cell_type": "code",
   "execution_count": 55,
   "id": "ed921f36",
   "metadata": {},
   "outputs": [],
   "source": [
    "x.sort()"
   ]
  },
  {
   "cell_type": "code",
   "execution_count": 56,
   "id": "d2628a3a",
   "metadata": {},
   "outputs": [
    {
     "name": "stdout",
     "output_type": "stream",
     "text": [
      "[1, 2, 2, 3, 5, 9, 34, 77, 89, 99]\n"
     ]
    }
   ],
   "source": [
    "print(x)"
   ]
  },
  {
   "cell_type": "code",
   "execution_count": 57,
   "id": "5c066a76",
   "metadata": {},
   "outputs": [
    {
     "name": "stdout",
     "output_type": "stream",
     "text": [
      "[99, 89, 77, 34, 9, 5, 3, 2, 2, 1]\n"
     ]
    }
   ],
   "source": [
    "x.reverse()\n",
    "print(x)"
   ]
  },
  {
   "cell_type": "code",
   "execution_count": 58,
   "id": "af0da7f8",
   "metadata": {},
   "outputs": [
    {
     "name": "stdout",
     "output_type": "stream",
     "text": [
      "[1, 2, 2, 3, 5, 9, 34, 77, 89, 99]\n"
     ]
    }
   ],
   "source": [
    "x.sort()\n",
    "print(x)"
   ]
  },
  {
   "cell_type": "code",
   "execution_count": 59,
   "id": "4290c005",
   "metadata": {},
   "outputs": [
    {
     "name": "stdout",
     "output_type": "stream",
     "text": [
      "[99, 89, 77, 34, 9, 5, 3, 2, 2, 1]\n"
     ]
    }
   ],
   "source": [
    "x.sort(reverse = True)\n",
    "print(x)"
   ]
  },
  {
   "cell_type": "code",
   "execution_count": 60,
   "id": "46c6b45c",
   "metadata": {},
   "outputs": [
    {
     "name": "stdout",
     "output_type": "stream",
     "text": [
      "[1, 2, 2, 3, 5, 9, 34, 77, 89, 99]\n"
     ]
    }
   ],
   "source": [
    "print(sorted(x))"
   ]
  },
  {
   "cell_type": "code",
   "execution_count": 61,
   "id": "e6af03af",
   "metadata": {},
   "outputs": [],
   "source": [
    "item = [\n",
    "    (\"Product 1\", 9), \n",
    "    (\"Product 2\", 10), \n",
    "    (\"Product 3\", 8)\n",
    "]"
   ]
  },
  {
   "cell_type": "code",
   "execution_count": 62,
   "id": "1bd74e82",
   "metadata": {},
   "outputs": [],
   "source": [
    "def sort_item(item):\n",
    "    return item[1]"
   ]
  },
  {
   "cell_type": "code",
   "execution_count": 63,
   "id": "3020a709",
   "metadata": {},
   "outputs": [
    {
     "ename": "TypeError",
     "evalue": "sort() takes no positional arguments",
     "output_type": "error",
     "traceback": [
      "\u001b[1;31m---------------------------------------------------------------------------\u001b[0m",
      "\u001b[1;31mTypeError\u001b[0m                                 Traceback (most recent call last)",
      "\u001b[1;32m~\\AppData\\Local\\Temp/ipykernel_9916/439043445.py\u001b[0m in \u001b[0;36m<module>\u001b[1;34m\u001b[0m\n\u001b[1;32m----> 1\u001b[1;33m \u001b[0mitem\u001b[0m\u001b[1;33m.\u001b[0m\u001b[0msort\u001b[0m\u001b[1;33m(\u001b[0m\u001b[0msort_item\u001b[0m\u001b[1;33m)\u001b[0m\u001b[1;33m\u001b[0m\u001b[1;33m\u001b[0m\u001b[0m\n\u001b[0m\u001b[0;32m      2\u001b[0m \u001b[0mprint\u001b[0m\u001b[1;33m(\u001b[0m\u001b[0mitem\u001b[0m\u001b[1;33m)\u001b[0m\u001b[1;33m\u001b[0m\u001b[1;33m\u001b[0m\u001b[0m\n",
      "\u001b[1;31mTypeError\u001b[0m: sort() takes no positional arguments"
     ]
    }
   ],
   "source": [
    "item.sort(sort_item)\n",
    "print(item)"
   ]
  },
  {
   "cell_type": "code",
   "execution_count": null,
   "id": "5d5d2c25",
   "metadata": {},
   "outputs": [],
   "source": [
    "item.sort(key = sort_item)\n",
    "print(item)"
   ]
  },
  {
   "cell_type": "code",
   "execution_count": null,
   "id": "1301b7b9",
   "metadata": {},
   "outputs": [],
   "source": [
    "item.sort(key = sort_item, reverse = True)\n",
    "print(item)"
   ]
  },
  {
   "cell_type": "code",
   "execution_count": null,
   "id": "2d857e98",
   "metadata": {},
   "outputs": [],
   "source": []
  },
  {
   "cell_type": "markdown",
   "id": "344df1e7",
   "metadata": {},
   "source": [
    "# Lambda Function"
   ]
  },
  {
   "cell_type": "code",
   "execution_count": null,
   "id": "c3ac7197",
   "metadata": {},
   "outputs": [],
   "source": [
    "item = [\n",
    "    (\"Product 1\", 9), \n",
    "    (\"Product 2\", 10), \n",
    "    (\"Product 3\", 8)\n",
    "]"
   ]
  },
  {
   "cell_type": "code",
   "execution_count": null,
   "id": "c084a0bf",
   "metadata": {},
   "outputs": [],
   "source": [
    "item"
   ]
  },
  {
   "cell_type": "code",
   "execution_count": null,
   "id": "35f99bc3",
   "metadata": {},
   "outputs": [],
   "source": [
    "item.sort()\n",
    "item"
   ]
  },
  {
   "cell_type": "code",
   "execution_count": null,
   "id": "391d4f8b",
   "metadata": {},
   "outputs": [],
   "source": [
    "# item.sort(key = lambda parameters:expression)\n",
    "item.sort(key = lambda item : item[1])\n",
    "item"
   ]
  },
  {
   "cell_type": "markdown",
   "id": "b99511de",
   "metadata": {},
   "source": [
    "# Map Functions"
   ]
  },
  {
   "cell_type": "code",
   "execution_count": null,
   "id": "5580dfe0",
   "metadata": {},
   "outputs": [],
   "source": [
    "items = [\n",
    "    (\"Product 1\", 10), \n",
    "    (\"Product 2\", 9), \n",
    "    (\"Product 3\", 12)\n",
    "]"
   ]
  },
  {
   "cell_type": "code",
   "execution_count": null,
   "id": "51f6129a",
   "metadata": {},
   "outputs": [],
   "source": [
    "prices = map(lambda item : item[1], items)\n",
    "prices"
   ]
  },
  {
   "cell_type": "code",
   "execution_count": null,
   "id": "15e4b1fa",
   "metadata": {},
   "outputs": [],
   "source": [
    "prices = list(map(lambda item : item[1], items))\n",
    "prices"
   ]
  },
  {
   "cell_type": "markdown",
   "id": "bddf0a4f",
   "metadata": {},
   "source": [
    "# Practice Example\n",
    "\n",
    "### 1. Lambda"
   ]
  },
  {
   "cell_type": "code",
   "execution_count": null,
   "id": "f3b75794",
   "metadata": {},
   "outputs": [],
   "source": [
    "x = [(\"One\", 1), (\"Two\", 2)]"
   ]
  },
  {
   "cell_type": "code",
   "execution_count": null,
   "id": "a4544523",
   "metadata": {},
   "outputs": [],
   "source": [
    "x.sort(key = lambda x:x[1], reverse=True)\n",
    "x"
   ]
  },
  {
   "cell_type": "markdown",
   "id": "ecc93491",
   "metadata": {},
   "source": [
    "### 2. Map"
   ]
  },
  {
   "cell_type": "code",
   "execution_count": null,
   "id": "72ba241a",
   "metadata": {},
   "outputs": [],
   "source": [
    "x = [(\"One\", 1), (\"Two\", 2), (\"three\", 3)]"
   ]
  },
  {
   "cell_type": "code",
   "execution_count": null,
   "id": "2f463c2d",
   "metadata": {},
   "outputs": [],
   "source": [
    "y = list(map(lambda x:x[1]%2== 0, x))\n",
    "y"
   ]
  },
  {
   "cell_type": "code",
   "execution_count": null,
   "id": "b5d51183",
   "metadata": {},
   "outputs": [],
   "source": [
    "y = list(map(lambda x:x[1]%2, x))\n",
    "y"
   ]
  },
  {
   "cell_type": "code",
   "execution_count": null,
   "id": "1e81a85a",
   "metadata": {},
   "outputs": [],
   "source": []
  },
  {
   "cell_type": "markdown",
   "id": "a810540b",
   "metadata": {},
   "source": [
    "## Filter Functions"
   ]
  },
  {
   "cell_type": "code",
   "execution_count": null,
   "id": "ce732228",
   "metadata": {},
   "outputs": [],
   "source": [
    "items = [\n",
    "    (\"Product 1\", 10), \n",
    "    (\"Product 2\", 9), \n",
    "    (\"Product 3\", 12)\n",
    "]"
   ]
  },
  {
   "cell_type": "code",
   "execution_count": null,
   "id": "11802bd9",
   "metadata": {},
   "outputs": [],
   "source": [
    "x = list(filter(lambda item: item[1]>=10, items))"
   ]
  },
  {
   "cell_type": "code",
   "execution_count": null,
   "id": "edc64617",
   "metadata": {},
   "outputs": [],
   "source": [
    "x"
   ]
  },
  {
   "cell_type": "markdown",
   "id": "c5dcfefb",
   "metadata": {},
   "source": [
    "# List Comprehension"
   ]
  },
  {
   "cell_type": "code",
   "execution_count": 64,
   "id": "85d16c16",
   "metadata": {},
   "outputs": [],
   "source": [
    "items = [\n",
    "    (\"Product 1\", 10), \n",
    "    (\"Product 2\", 9), \n",
    "    (\"Product 3\", 12)\n",
    "]"
   ]
  },
  {
   "cell_type": "markdown",
   "id": "6ae6b5dc",
   "metadata": {},
   "source": [
    "## Like Lambda and Map"
   ]
  },
  {
   "cell_type": "code",
   "execution_count": 65,
   "id": "701135cd",
   "metadata": {},
   "outputs": [
    {
     "data": {
      "text/plain": [
       "[10, 9, 12]"
      ]
     },
     "execution_count": 65,
     "metadata": {},
     "output_type": "execute_result"
    }
   ],
   "source": [
    "# [expressions for expression in items]\n",
    "item = [item[1] for item in items]\n",
    "item"
   ]
  },
  {
   "cell_type": "code",
   "execution_count": 66,
   "id": "e3135512",
   "metadata": {},
   "outputs": [
    {
     "data": {
      "text/plain": [
       "[1, 0, 0]"
      ]
     },
     "execution_count": 66,
     "metadata": {},
     "output_type": "execute_result"
    }
   ],
   "source": [
    "item = [item[1]%3 for item in items]\n",
    "item"
   ]
  },
  {
   "cell_type": "code",
   "execution_count": 67,
   "id": "d0d937df",
   "metadata": {},
   "outputs": [
    {
     "data": {
      "text/plain": [
       "[False, True, True]"
      ]
     },
     "execution_count": 67,
     "metadata": {},
     "output_type": "execute_result"
    }
   ],
   "source": [
    "item = [item[1]%3==0 for item in items]\n",
    "item"
   ]
  },
  {
   "cell_type": "markdown",
   "id": "019153e2",
   "metadata": {},
   "source": [
    "## Like Filter"
   ]
  },
  {
   "cell_type": "code",
   "execution_count": 69,
   "id": "214e13e2",
   "metadata": {},
   "outputs": [
    {
     "data": {
      "text/plain": [
       "[('Product 1', 10), ('Product 3', 12)]"
      ]
     },
     "execution_count": 69,
     "metadata": {},
     "output_type": "execute_result"
    }
   ],
   "source": [
    "item = [item for item in items if item[1] >= 10]\n",
    "item"
   ]
  },
  {
   "cell_type": "markdown",
   "id": "d3301af6",
   "metadata": {},
   "source": [
    "# ZIP Function"
   ]
  },
  {
   "cell_type": "code",
   "execution_count": 70,
   "id": "e2dce14f",
   "metadata": {},
   "outputs": [],
   "source": [
    "x = [1, 2, 3]\n",
    "y = [10, 20, 30]"
   ]
  },
  {
   "cell_type": "code",
   "execution_count": 71,
   "id": "56be0ab8",
   "metadata": {},
   "outputs": [
    {
     "data": {
      "text/plain": [
       "<zip at 0x273ac0cdd00>"
      ]
     },
     "execution_count": 71,
     "metadata": {},
     "output_type": "execute_result"
    }
   ],
   "source": [
    "new_list = zip(x, y)\n",
    "new_list"
   ]
  },
  {
   "cell_type": "code",
   "execution_count": 72,
   "id": "6ca5df6f",
   "metadata": {},
   "outputs": [
    {
     "data": {
      "text/plain": [
       "[(1, 10), (2, 20), (3, 30)]"
      ]
     },
     "execution_count": 72,
     "metadata": {},
     "output_type": "execute_result"
    }
   ],
   "source": [
    "new_list = list(zip(x, y))\n",
    "new_list"
   ]
  },
  {
   "cell_type": "code",
   "execution_count": 73,
   "id": "01594c1a",
   "metadata": {},
   "outputs": [
    {
     "data": {
      "text/plain": [
       "[('a', 1, 10), ('b', 2, 20), ('c', 3, 30)]"
      ]
     },
     "execution_count": 73,
     "metadata": {},
     "output_type": "execute_result"
    }
   ],
   "source": [
    "new_list = list(zip(\"abc\", x, y))\n",
    "new_list"
   ]
  },
  {
   "cell_type": "code",
   "execution_count": null,
   "id": "66cd0e22",
   "metadata": {},
   "outputs": [],
   "source": []
  }
 ],
 "metadata": {
  "kernelspec": {
   "display_name": "Python 3 (ipykernel)",
   "language": "python",
   "name": "python3"
  },
  "language_info": {
   "codemirror_mode": {
    "name": "ipython",
    "version": 3
   },
   "file_extension": ".py",
   "mimetype": "text/x-python",
   "name": "python",
   "nbconvert_exporter": "python",
   "pygments_lexer": "ipython3",
   "version": "3.9.7"
  }
 },
 "nbformat": 4,
 "nbformat_minor": 5
}
