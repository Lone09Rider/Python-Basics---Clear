{
 "cells": [
  {
   "cell_type": "code",
   "execution_count": 1,
   "id": "e1fa3b5a",
   "metadata": {},
   "outputs": [
    {
     "data": {
      "text/plain": [
       "<generator object <genexpr> at 0x0000023C523A9580>"
      ]
     },
     "execution_count": 1,
     "metadata": {},
     "output_type": "execute_result"
    }
   ],
   "source": [
    "values = (x*2 for x in range(5))\n",
    "values"
   ]
  },
  {
   "cell_type": "code",
   "execution_count": 2,
   "id": "14d5c5ee",
   "metadata": {},
   "outputs": [
    {
     "name": "stdout",
     "output_type": "stream",
     "text": [
      "0\n",
      "2\n",
      "4\n",
      "6\n",
      "8\n"
     ]
    }
   ],
   "source": [
    "for i in values:\n",
    "    print(i)"
   ]
  },
  {
   "cell_type": "code",
   "execution_count": 3,
   "id": "7a271e87",
   "metadata": {},
   "outputs": [],
   "source": [
    "from sys import getsizeof"
   ]
  },
  {
   "cell_type": "code",
   "execution_count": 4,
   "id": "528f6589",
   "metadata": {},
   "outputs": [
    {
     "data": {
      "text/plain": [
       "112"
      ]
     },
     "execution_count": 4,
     "metadata": {},
     "output_type": "execute_result"
    }
   ],
   "source": [
    "values = (x*2 for x in range(5))\n",
    "getsizeof(values)"
   ]
  },
  {
   "cell_type": "code",
   "execution_count": 5,
   "id": "cbb6d8c1",
   "metadata": {},
   "outputs": [
    {
     "data": {
      "text/plain": [
       "120"
      ]
     },
     "execution_count": 5,
     "metadata": {},
     "output_type": "execute_result"
    }
   ],
   "source": [
    "values = [x*2 for x in range(5)]\n",
    "getsizeof(values)"
   ]
  },
  {
   "cell_type": "markdown",
   "id": "da7c453d",
   "metadata": {},
   "source": [
    "#  Why Tuples Over Lists ? - See the Sizes"
   ]
  },
  {
   "cell_type": "code",
   "execution_count": 6,
   "id": "8ca3644f",
   "metadata": {},
   "outputs": [
    {
     "data": {
      "text/plain": [
       "112"
      ]
     },
     "execution_count": 6,
     "metadata": {},
     "output_type": "execute_result"
    }
   ],
   "source": [
    "values = (x*2 for x in range(100000))\n",
    "getsizeof(values)"
   ]
  },
  {
   "cell_type": "code",
   "execution_count": 8,
   "id": "28628ea9",
   "metadata": {},
   "outputs": [
    {
     "data": {
      "text/plain": [
       "800984"
      ]
     },
     "execution_count": 8,
     "metadata": {},
     "output_type": "execute_result"
    }
   ],
   "source": [
    "values = [x*2 for x in range(100000)]\n",
    "getsizeof(values)"
   ]
  },
  {
   "cell_type": "code",
   "execution_count": 9,
   "id": "d4c02749",
   "metadata": {},
   "outputs": [
    {
     "data": {
      "text/plain": [
       "100000"
      ]
     },
     "execution_count": 9,
     "metadata": {},
     "output_type": "execute_result"
    }
   ],
   "source": [
    "len(values)"
   ]
  },
  {
   "cell_type": "code",
   "execution_count": null,
   "id": "1393ee1a",
   "metadata": {},
   "outputs": [],
   "source": []
  }
 ],
 "metadata": {
  "kernelspec": {
   "display_name": "Python 3 (ipykernel)",
   "language": "python",
   "name": "python3"
  },
  "language_info": {
   "codemirror_mode": {
    "name": "ipython",
    "version": 3
   },
   "file_extension": ".py",
   "mimetype": "text/x-python",
   "name": "python",
   "nbconvert_exporter": "python",
   "pygments_lexer": "ipython3",
   "version": "3.9.7"
  }
 },
 "nbformat": 4,
 "nbformat_minor": 5
}
