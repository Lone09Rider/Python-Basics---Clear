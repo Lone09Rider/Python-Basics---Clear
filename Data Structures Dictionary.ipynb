{
 "cells": [
  {
   "cell_type": "markdown",
   "id": "5e3d796c",
   "metadata": {},
   "source": [
    "# Key Value Pair"
   ]
  },
  {
   "cell_type": "code",
   "execution_count": 1,
   "id": "f9c388b7",
   "metadata": {},
   "outputs": [
    {
     "name": "stdout",
     "output_type": "stream",
     "text": [
      "<class 'dict'>\n"
     ]
    },
    {
     "data": {
      "text/plain": [
       "{'x': 1, 'y': 2}"
      ]
     },
     "execution_count": 1,
     "metadata": {},
     "output_type": "execute_result"
    }
   ],
   "source": [
    "point = {\n",
    "    \"x\":1,\n",
    "    \"y\":2\n",
    "}\n",
    "print(type(point))\n",
    "point"
   ]
  },
  {
   "cell_type": "code",
   "execution_count": 2,
   "id": "a14940e3",
   "metadata": {},
   "outputs": [
    {
     "name": "stdout",
     "output_type": "stream",
     "text": [
      "<class 'dict'>\n"
     ]
    },
    {
     "data": {
      "text/plain": [
       "{'x': 1, 'y': 2}"
      ]
     },
     "execution_count": 2,
     "metadata": {},
     "output_type": "execute_result"
    }
   ],
   "source": [
    "point = dict(x = 1, y = 2)\n",
    "print(type(point))\n",
    "point"
   ]
  },
  {
   "cell_type": "code",
   "execution_count": 3,
   "id": "04685b37",
   "metadata": {},
   "outputs": [
    {
     "data": {
      "text/plain": [
       "1"
      ]
     },
     "execution_count": 3,
     "metadata": {},
     "output_type": "execute_result"
    }
   ],
   "source": [
    "point[\"x\"]"
   ]
  },
  {
   "cell_type": "code",
   "execution_count": 4,
   "id": "35181072",
   "metadata": {},
   "outputs": [],
   "source": [
    "point[\"x\"] = 9"
   ]
  },
  {
   "cell_type": "code",
   "execution_count": 5,
   "id": "d59c13e0",
   "metadata": {},
   "outputs": [
    {
     "data": {
      "text/plain": [
       "{'x': 9, 'y': 2}"
      ]
     },
     "execution_count": 5,
     "metadata": {},
     "output_type": "execute_result"
    }
   ],
   "source": [
    "point"
   ]
  },
  {
   "cell_type": "code",
   "execution_count": 6,
   "id": "31c16083",
   "metadata": {},
   "outputs": [],
   "source": [
    "point[\"z\"] = 3"
   ]
  },
  {
   "cell_type": "code",
   "execution_count": 7,
   "id": "a1733110",
   "metadata": {},
   "outputs": [
    {
     "data": {
      "text/plain": [
       "'None'"
      ]
     },
     "execution_count": 7,
     "metadata": {},
     "output_type": "execute_result"
    }
   ],
   "source": [
    "point.get(\"a\", \"None\")"
   ]
  },
  {
   "cell_type": "code",
   "execution_count": 8,
   "id": "f970e07b",
   "metadata": {},
   "outputs": [
    {
     "data": {
      "text/plain": [
       "dict_keys(['x', 'y', 'z'])"
      ]
     },
     "execution_count": 8,
     "metadata": {},
     "output_type": "execute_result"
    }
   ],
   "source": [
    "point.keys()"
   ]
  },
  {
   "cell_type": "code",
   "execution_count": 9,
   "id": "d4c26354",
   "metadata": {},
   "outputs": [
    {
     "data": {
      "text/plain": [
       "dict_values([9, 2, 3])"
      ]
     },
     "execution_count": 9,
     "metadata": {},
     "output_type": "execute_result"
    }
   ],
   "source": [
    "point.values()"
   ]
  },
  {
   "cell_type": "code",
   "execution_count": 10,
   "id": "d86dc112",
   "metadata": {},
   "outputs": [
    {
     "data": {
      "text/plain": [
       "dict_items([('x', 9), ('y', 2), ('z', 3)])"
      ]
     },
     "execution_count": 10,
     "metadata": {},
     "output_type": "execute_result"
    }
   ],
   "source": [
    "point.items()"
   ]
  },
  {
   "cell_type": "code",
   "execution_count": 11,
   "id": "7a2af0eb",
   "metadata": {},
   "outputs": [
    {
     "name": "stdout",
     "output_type": "stream",
     "text": [
      "('x', 9)\n",
      "('y', 2)\n",
      "('z', 3)\n"
     ]
    }
   ],
   "source": [
    "for both in point.items():\n",
    "    print(both)"
   ]
  },
  {
   "cell_type": "code",
   "execution_count": null,
   "id": "7aee10fb",
   "metadata": {},
   "outputs": [],
   "source": [
    "for key, value in point.items():\n",
    "    print(key)"
   ]
  },
  {
   "cell_type": "code",
   "execution_count": null,
   "id": "f059b57c",
   "metadata": {},
   "outputs": [],
   "source": [
    "for key, value in point.items():\n",
    "    print(value)"
   ]
  },
  {
   "cell_type": "code",
   "execution_count": null,
   "id": "5f0bd47f",
   "metadata": {},
   "outputs": [],
   "source": []
  }
 ],
 "metadata": {
  "kernelspec": {
   "display_name": "Python 3 (ipykernel)",
   "language": "python",
   "name": "python3"
  },
  "language_info": {
   "codemirror_mode": {
    "name": "ipython",
    "version": 3
   },
   "file_extension": ".py",
   "mimetype": "text/x-python",
   "name": "python",
   "nbconvert_exporter": "python",
   "pygments_lexer": "ipython3",
   "version": "3.9.7"
  }
 },
 "nbformat": 4,
 "nbformat_minor": 5
}
