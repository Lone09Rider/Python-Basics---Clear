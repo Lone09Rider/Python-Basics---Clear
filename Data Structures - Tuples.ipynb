{
 "cells": [
  {
   "cell_type": "code",
   "execution_count": 1,
   "id": "75faf168",
   "metadata": {},
   "outputs": [
    {
     "name": "stdout",
     "output_type": "stream",
     "text": [
      "<class 'tuple'>\n"
     ]
    }
   ],
   "source": [
    "point = (1, 2)\n",
    "print(type(point))"
   ]
  },
  {
   "cell_type": "code",
   "execution_count": 2,
   "id": "64985aa2",
   "metadata": {},
   "outputs": [
    {
     "name": "stdout",
     "output_type": "stream",
     "text": [
      "<class 'int'>\n"
     ]
    }
   ],
   "source": [
    "# Not Happening\n",
    "point = 1\n",
    "print(type(point))"
   ]
  },
  {
   "cell_type": "code",
   "execution_count": 3,
   "id": "f9f9fb78",
   "metadata": {},
   "outputs": [
    {
     "name": "stdout",
     "output_type": "stream",
     "text": [
      "<class 'tuple'>\n"
     ]
    }
   ],
   "source": [
    "point = 1,\n",
    "print(type(point))"
   ]
  },
  {
   "cell_type": "code",
   "execution_count": 4,
   "id": "cbffb5dd",
   "metadata": {},
   "outputs": [
    {
     "name": "stdout",
     "output_type": "stream",
     "text": [
      "<class 'tuple'>\n"
     ]
    }
   ],
   "source": [
    "point = ()\n",
    "print(type(point))"
   ]
  },
  {
   "cell_type": "code",
   "execution_count": 5,
   "id": "9c3d8c88",
   "metadata": {},
   "outputs": [
    {
     "name": "stdout",
     "output_type": "stream",
     "text": [
      "<class 'tuple'>\n"
     ]
    }
   ],
   "source": [
    "point = 1, 2\n",
    "print(type(point))"
   ]
  },
  {
   "cell_type": "code",
   "execution_count": 6,
   "id": "328fc5eb",
   "metadata": {},
   "outputs": [
    {
     "data": {
      "text/plain": [
       "1"
      ]
     },
     "execution_count": 6,
     "metadata": {},
     "output_type": "execute_result"
    }
   ],
   "source": [
    "point.count(1)"
   ]
  },
  {
   "cell_type": "code",
   "execution_count": 7,
   "id": "a44c797f",
   "metadata": {},
   "outputs": [
    {
     "data": {
      "text/plain": [
       "0"
      ]
     },
     "execution_count": 7,
     "metadata": {},
     "output_type": "execute_result"
    }
   ],
   "source": [
    "point.index(1)"
   ]
  },
  {
   "cell_type": "code",
   "execution_count": 8,
   "id": "c0adf9c1",
   "metadata": {},
   "outputs": [
    {
     "name": "stdout",
     "output_type": "stream",
     "text": [
      "(1, 2, 3, 4)\n"
     ]
    }
   ],
   "source": [
    "point = (1, 2) + (3, 4)\n",
    "print(point)"
   ]
  },
  {
   "cell_type": "code",
   "execution_count": 9,
   "id": "cad6ce30",
   "metadata": {},
   "outputs": [
    {
     "name": "stdout",
     "output_type": "stream",
     "text": [
      "(1, 2, 1, 2, 1, 2)\n"
     ]
    }
   ],
   "source": [
    "point = (1, 2) * 3\n",
    "print(point)"
   ]
  },
  {
   "cell_type": "code",
   "execution_count": 10,
   "id": "659ba92f",
   "metadata": {},
   "outputs": [
    {
     "name": "stdout",
     "output_type": "stream",
     "text": [
      "(1, 2)\n"
     ]
    }
   ],
   "source": [
    "point = tuple([1, 2])\n",
    "print(point)"
   ]
  },
  {
   "cell_type": "code",
   "execution_count": 11,
   "id": "ee090030",
   "metadata": {},
   "outputs": [
    {
     "name": "stdout",
     "output_type": "stream",
     "text": [
      "('H', 'e', 'l', 'l', 'o')\n"
     ]
    }
   ],
   "source": [
    "point = tuple(\"Hello\")\n",
    "print(point)"
   ]
  },
  {
   "cell_type": "code",
   "execution_count": 12,
   "id": "b279922e",
   "metadata": {},
   "outputs": [
    {
     "data": {
      "text/plain": [
       "('H', 'e', 'l', 'l', 'o')"
      ]
     },
     "execution_count": 12,
     "metadata": {},
     "output_type": "execute_result"
    }
   ],
   "source": [
    "point[:]"
   ]
  },
  {
   "cell_type": "code",
   "execution_count": 13,
   "id": "6412bb92",
   "metadata": {},
   "outputs": [
    {
     "data": {
      "text/plain": [
       "('H', 'e', 'l')"
      ]
     },
     "execution_count": 13,
     "metadata": {},
     "output_type": "execute_result"
    }
   ],
   "source": [
    "point[:3]"
   ]
  },
  {
   "cell_type": "code",
   "execution_count": 14,
   "id": "8509e5dc",
   "metadata": {},
   "outputs": [
    {
     "data": {
      "text/plain": [
       "('o', 'l', 'l', 'e', 'H')"
      ]
     },
     "execution_count": 14,
     "metadata": {},
     "output_type": "execute_result"
    }
   ],
   "source": [
    "point[::-1]"
   ]
  },
  {
   "cell_type": "code",
   "execution_count": 15,
   "id": "bb1c9126",
   "metadata": {},
   "outputs": [
    {
     "data": {
      "text/plain": [
       "1"
      ]
     },
     "execution_count": 15,
     "metadata": {},
     "output_type": "execute_result"
    }
   ],
   "source": [
    "point = (1, 2, 3)\n",
    "x, y, z = point\n",
    "x"
   ]
  },
  {
   "cell_type": "code",
   "execution_count": 16,
   "id": "8d7c3ed3",
   "metadata": {},
   "outputs": [
    {
     "data": {
      "text/plain": [
       "3"
      ]
     },
     "execution_count": 16,
     "metadata": {},
     "output_type": "execute_result"
    }
   ],
   "source": [
    "z"
   ]
  },
  {
   "cell_type": "code",
   "execution_count": 17,
   "id": "dbf8b381",
   "metadata": {},
   "outputs": [
    {
     "name": "stdout",
     "output_type": "stream",
     "text": [
      "Exists\n"
     ]
    }
   ],
   "source": [
    "if 3 in point:\n",
    "    print(\"Exists\")"
   ]
  },
  {
   "cell_type": "code",
   "execution_count": 18,
   "id": "4be962d1",
   "metadata": {},
   "outputs": [
    {
     "ename": "TypeError",
     "evalue": "'tuple' object does not support item assignment",
     "output_type": "error",
     "traceback": [
      "\u001b[1;31m---------------------------------------------------------------------------\u001b[0m",
      "\u001b[1;31mTypeError\u001b[0m                                 Traceback (most recent call last)",
      "\u001b[1;32m~\\AppData\\Local\\Temp/ipykernel_14468/757189196.py\u001b[0m in \u001b[0;36m<module>\u001b[1;34m\u001b[0m\n\u001b[1;32m----> 1\u001b[1;33m \u001b[0mpoint\u001b[0m\u001b[1;33m[\u001b[0m\u001b[1;36m0\u001b[0m\u001b[1;33m]\u001b[0m \u001b[1;33m=\u001b[0m \u001b[1;36m10\u001b[0m\u001b[1;33m\u001b[0m\u001b[1;33m\u001b[0m\u001b[0m\n\u001b[0m",
      "\u001b[1;31mTypeError\u001b[0m: 'tuple' object does not support item assignment"
     ]
    }
   ],
   "source": [
    "point[0] = 10"
   ]
  },
  {
   "cell_type": "code",
   "execution_count": null,
   "id": "df6137fe",
   "metadata": {},
   "outputs": [],
   "source": []
  }
 ],
 "metadata": {
  "kernelspec": {
   "display_name": "Python 3 (ipykernel)",
   "language": "python",
   "name": "python3"
  },
  "language_info": {
   "codemirror_mode": {
    "name": "ipython",
    "version": 3
   },
   "file_extension": ".py",
   "mimetype": "text/x-python",
   "name": "python",
   "nbconvert_exporter": "python",
   "pygments_lexer": "ipython3",
   "version": "3.9.7"
  }
 },
 "nbformat": 4,
 "nbformat_minor": 5
}
