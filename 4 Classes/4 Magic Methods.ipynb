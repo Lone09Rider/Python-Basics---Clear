{
 "cells": [
  {
   "cell_type": "markdown",
   "id": "15c98f10",
   "metadata": {},
   "source": [
    "#  __magic methods__ example __init__"
   ]
  },
  {
   "cell_type": "code",
   "execution_count": 6,
   "id": "b80757e4",
   "metadata": {},
   "outputs": [
    {
     "name": "stdout",
     "output_type": "stream",
     "text": [
      "Point is : (1, 2)\n"
     ]
    }
   ],
   "source": [
    "class Point:\n",
    "    def __init__(self, x, y):\n",
    "        self.x = x\n",
    "        self.y = y\n",
    "        \n",
    "    def __str__(self):\n",
    "        return f\"({self.x}, {self.y})\"\n",
    "        \n",
    "    def show(self):\n",
    "        print(f\"Point is : ({self.x}, {self.y})\")\n",
    "pt = Point(1,2)\n",
    "pt.show()"
   ]
  },
  {
   "cell_type": "code",
   "execution_count": 7,
   "id": "037614ea",
   "metadata": {},
   "outputs": [
    {
     "name": "stdout",
     "output_type": "stream",
     "text": [
      "(1, 2)\n"
     ]
    }
   ],
   "source": [
    "pt = Point(1, 2)\n",
    "print(pt)"
   ]
  },
  {
   "cell_type": "code",
   "execution_count": 8,
   "id": "541a7a6c",
   "metadata": {},
   "outputs": [
    {
     "name": "stdout",
     "output_type": "stream",
     "text": [
      "(1, 2)\n"
     ]
    }
   ],
   "source": [
    "print(str(pt))"
   ]
  },
  {
   "cell_type": "code",
   "execution_count": null,
   "id": "6159dc88",
   "metadata": {},
   "outputs": [],
   "source": []
  }
 ],
 "metadata": {
  "kernelspec": {
   "display_name": "Python 3 (ipykernel)",
   "language": "python",
   "name": "python3"
  },
  "language_info": {
   "codemirror_mode": {
    "name": "ipython",
    "version": 3
   },
   "file_extension": ".py",
   "mimetype": "text/x-python",
   "name": "python",
   "nbconvert_exporter": "python",
   "pygments_lexer": "ipython3",
   "version": "3.9.7"
  }
 },
 "nbformat": 4,
 "nbformat_minor": 5
}
