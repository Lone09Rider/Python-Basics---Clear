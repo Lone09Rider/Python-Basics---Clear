{
 "cells": [
  {
   "cell_type": "code",
   "execution_count": 1,
   "id": "f9400d03",
   "metadata": {},
   "outputs": [
    {
     "name": "stdout",
     "output_type": "stream",
     "text": [
      "12 23\n"
     ]
    }
   ],
   "source": [
    "class Point:\n",
    "    def __init__(self, x, y):\n",
    "        self.x = x\n",
    "        self.y = y\n",
    "    \n",
    "    def __add__(self, other):\n",
    "        return Point(self.x + other.x, self.y + other.y)\n",
    "\n",
    "point = Point(10, 20)\n",
    "other = Point(2, 3)\n",
    "combined = point + other\n",
    "print(combined.x, combined.y)"
   ]
  },
  {
   "cell_type": "code",
   "execution_count": 2,
   "id": "e4920062",
   "metadata": {},
   "outputs": [
    {
     "name": "stdout",
     "output_type": "stream",
     "text": [
      "8 17\n"
     ]
    }
   ],
   "source": [
    "class Point:\n",
    "    def __init__(self, x, y):\n",
    "        self.x = x\n",
    "        self.y = y\n",
    "    def __sub__(self, other):\n",
    "        return Point(self.x - other.x, self.y - other.y)\n",
    "point = Point(10, 20)\n",
    "other = Point(2, 3)\n",
    "combined = point - other\n",
    "print(combined.x, combined.y)"
   ]
  },
  {
   "cell_type": "code",
   "execution_count": 3,
   "id": "02e906dc",
   "metadata": {},
   "outputs": [
    {
     "name": "stdout",
     "output_type": "stream",
     "text": [
      "20 60\n"
     ]
    }
   ],
   "source": [
    "class Point:\n",
    "    def __init__(self, x, y):\n",
    "        self.x = x\n",
    "        self.y = y\n",
    "    def __mul__(self, other):\n",
    "        return Point(self.x * other.x, self.y * other.y)\n",
    "point = Point(10, 20)\n",
    "other = Point(2, 3)\n",
    "combined = point * other\n",
    "print(combined.x, combined.y)"
   ]
  },
  {
   "cell_type": "code",
   "execution_count": 6,
   "id": "6e4580c3",
   "metadata": {},
   "outputs": [
    {
     "name": "stdout",
     "output_type": "stream",
     "text": [
      "5 6\n"
     ]
    }
   ],
   "source": [
    "class Point:\n",
    "    def __init__(self, x, y):\n",
    "        self.x = x\n",
    "        self.y = y\n",
    "    def __floordiv__(self, other):\n",
    "        return Point(self.x // other.x, self.y // other.y)\n",
    "point = Point(10, 20)\n",
    "other = Point(2, 3)\n",
    "combined = point // other\n",
    "print(combined.x, combined.y)"
   ]
  },
  {
   "cell_type": "code",
   "execution_count": 7,
   "id": "ca42e3d1",
   "metadata": {},
   "outputs": [
    {
     "name": "stdout",
     "output_type": "stream",
     "text": [
      "5.0 6.666666666666667\n"
     ]
    }
   ],
   "source": [
    "class Point:\n",
    "    def __init__(self, x, y):\n",
    "        self.x = x\n",
    "        self.y = y\n",
    "    def __truediv__(self, other):\n",
    "        return Point(self.x / other.x, self.y / other.y)\n",
    "point = Point(10, 20)\n",
    "other = Point(2, 3)\n",
    "combined = point / other\n",
    "print(combined.x, combined.y)"
   ]
  },
  {
   "cell_type": "code",
   "execution_count": null,
   "id": "4be634c1",
   "metadata": {},
   "outputs": [],
   "source": []
  }
 ],
 "metadata": {
  "kernelspec": {
   "display_name": "Python 3 (ipykernel)",
   "language": "python",
   "name": "python3"
  },
  "language_info": {
   "codemirror_mode": {
    "name": "ipython",
    "version": 3
   },
   "file_extension": ".py",
   "mimetype": "text/x-python",
   "name": "python",
   "nbconvert_exporter": "python",
   "pygments_lexer": "ipython3",
   "version": "3.9.7"
  }
 },
 "nbformat": 4,
 "nbformat_minor": 5
}
