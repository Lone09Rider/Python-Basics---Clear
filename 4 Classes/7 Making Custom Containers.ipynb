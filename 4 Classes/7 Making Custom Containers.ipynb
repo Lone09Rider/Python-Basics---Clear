{
 "cells": [
  {
   "cell_type": "code",
   "execution_count": 8,
   "id": "80849ab9",
   "metadata": {},
   "outputs": [],
   "source": [
    "class TagCloud:\n",
    "    def __init__(self):\n",
    "        self.tags = {}\n",
    "\n",
    "    def add(self, tag):\n",
    "        self.tags[tag.lower()] = self.tags.get(tag, 0) + 1\n",
    "        \n",
    "\n",
    "    def __getitem__(self, tag):\n",
    "        return self.tags.get(tag.lower(), 0)\n",
    "    \n",
    "    def __setitem__(self, key, value):\n",
    "        self.tags[tag.lower()] = count\n",
    "        \n",
    "    def __len__(self):\n",
    "        return len(self.tags)\n",
    "    \n",
    "    def __iter__(self):\n",
    "        iter(self.tags)"
   ]
  },
  {
   "cell_type": "code",
   "execution_count": 10,
   "id": "46887be5",
   "metadata": {},
   "outputs": [
    {
     "name": "stdout",
     "output_type": "stream",
     "text": [
      "{'python': 3}\n"
     ]
    }
   ],
   "source": [
    "cloud = TagCloud()\n",
    "cloud.add(\"Python\")\n",
    "cloud.add(\"python\")\n",
    "cloud.add(\"python\")\n",
    "print(cloud.tags)"
   ]
  },
  {
   "cell_type": "code",
   "execution_count": null,
   "id": "954b6793",
   "metadata": {},
   "outputs": [],
   "source": []
  }
 ],
 "metadata": {
  "kernelspec": {
   "display_name": "Python 3 (ipykernel)",
   "language": "python",
   "name": "python3"
  },
  "language_info": {
   "codemirror_mode": {
    "name": "ipython",
    "version": 3
   },
   "file_extension": ".py",
   "mimetype": "text/x-python",
   "name": "python",
   "nbconvert_exporter": "python",
   "pygments_lexer": "ipython3",
   "version": "3.9.7"
  }
 },
 "nbformat": 4,
 "nbformat_minor": 5
}
