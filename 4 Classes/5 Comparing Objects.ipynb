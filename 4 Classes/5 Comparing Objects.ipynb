{
 "cells": [
  {
   "cell_type": "code",
   "execution_count": 1,
   "id": "92b8ed69",
   "metadata": {},
   "outputs": [
    {
     "name": "stdout",
     "output_type": "stream",
     "text": [
      "True\n"
     ]
    }
   ],
   "source": [
    "class Point:\n",
    "    def __init__(self, x, y):\n",
    "        self.x = x\n",
    "        self.y = y\n",
    "    \n",
    "    def __eq__(self, other):\n",
    "        return self.x == other.x and self.y == other.y\n",
    "    \n",
    "    def __gt__(self, other):\n",
    "        return self.x > other.x and self.y >other.y\n",
    "    \n",
    "pt1 = Point(1,2)\n",
    "pt2 = Point(1,2)\n",
    "\n",
    "print(pt1 == pt2)"
   ]
  },
  {
   "cell_type": "code",
   "execution_count": 2,
   "id": "c1deb257",
   "metadata": {},
   "outputs": [
    {
     "name": "stdout",
     "output_type": "stream",
     "text": [
      "True\n"
     ]
    }
   ],
   "source": [
    "point = Point(10,20)\n",
    "other = Point(1,2)\n",
    "\n",
    "print(point > other)"
   ]
  },
  {
   "cell_type": "code",
   "execution_count": 3,
   "id": "b2826293",
   "metadata": {},
   "outputs": [
    {
     "name": "stdout",
     "output_type": "stream",
     "text": [
      "False\n"
     ]
    }
   ],
   "source": [
    "point = Point(10,20)\n",
    "other = Point(1,2)\n",
    "\n",
    "print(point < other)"
   ]
  },
  {
   "cell_type": "code",
   "execution_count": null,
   "id": "289512d8",
   "metadata": {},
   "outputs": [],
   "source": []
  }
 ],
 "metadata": {
  "kernelspec": {
   "display_name": "Python 3 (ipykernel)",
   "language": "python",
   "name": "python3"
  },
  "language_info": {
   "codemirror_mode": {
    "name": "ipython",
    "version": 3
   },
   "file_extension": ".py",
   "mimetype": "text/x-python",
   "name": "python",
   "nbconvert_exporter": "python",
   "pygments_lexer": "ipython3",
   "version": "3.9.7"
  }
 },
 "nbformat": 4,
 "nbformat_minor": 5
}
