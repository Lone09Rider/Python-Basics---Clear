{
 "cells": [
  {
   "cell_type": "code",
   "execution_count": 1,
   "id": "33b40235",
   "metadata": {},
   "outputs": [
    {
     "name": "stdout",
     "output_type": "stream",
     "text": [
      "Age : 0\n",
      "You need to enter a Valid Age.\n",
      "File Closed.\n"
     ]
    }
   ],
   "source": [
    "try:\n",
    "    file = open(\"1 Exeptions.ipynb\")\n",
    "    age = int(input(\"Age : \"))\n",
    "    xfactor = 10/age\n",
    "except (ZeroDivisionError, ValueError):\n",
    "    print(\"You need to enter a Valid Age.\")\n",
    "else:\n",
    "    print(\"Exeption Handled..\")\n",
    "finally:\n",
    "    print(\"File Closed.\")\n",
    "    file.close()"
   ]
  },
  {
   "cell_type": "code",
   "execution_count": null,
   "id": "bad2b0bb",
   "metadata": {},
   "outputs": [],
   "source": []
  }
 ],
 "metadata": {
  "kernelspec": {
   "display_name": "Python 3 (ipykernel)",
   "language": "python",
   "name": "python3"
  },
  "language_info": {
   "codemirror_mode": {
    "name": "ipython",
    "version": 3
   },
   "file_extension": ".py",
   "mimetype": "text/x-python",
   "name": "python",
   "nbconvert_exporter": "python",
   "pygments_lexer": "ipython3",
   "version": "3.9.7"
  }
 },
 "nbformat": 4,
 "nbformat_minor": 5
}
