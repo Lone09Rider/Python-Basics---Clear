{
 "cells": [
  {
   "cell_type": "code",
   "execution_count": 1,
   "id": "ce6baec1",
   "metadata": {},
   "outputs": [
    {
     "name": "stdout",
     "output_type": "stream",
     "text": [
      "File Opened.\n",
      "Age : 0\n",
      "You need to enter a Valid Age.\n"
     ]
    }
   ],
   "source": [
    "try:\n",
    "    with open(\"1 Exeptions.ipynb\") as file:\n",
    "        print(\"File Opened.\")\n",
    "    age = int(input(\"Age : \"))\n",
    "    xfactor = 10/age\n",
    "except (ZeroDivisionError, ValueError):\n",
    "    print(\"You need to enter a Valid Age.\")\n",
    "else:\n",
    "    print(\"Exeption Handled..\")"
   ]
  },
  {
   "cell_type": "code",
   "execution_count": null,
   "id": "146eb383",
   "metadata": {},
   "outputs": [],
   "source": []
  }
 ],
 "metadata": {
  "kernelspec": {
   "display_name": "Python 3 (ipykernel)",
   "language": "python",
   "name": "python3"
  },
  "language_info": {
   "codemirror_mode": {
    "name": "ipython",
    "version": 3
   },
   "file_extension": ".py",
   "mimetype": "text/x-python",
   "name": "python",
   "nbconvert_exporter": "python",
   "pygments_lexer": "ipython3",
   "version": "3.9.7"
  }
 },
 "nbformat": 4,
 "nbformat_minor": 5
}
