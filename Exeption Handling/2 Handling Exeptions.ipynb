{
 "cells": [
  {
   "cell_type": "code",
   "execution_count": 2,
   "id": "f967dfd9",
   "metadata": {},
   "outputs": [
    {
     "name": "stdout",
     "output_type": "stream",
     "text": [
      "Age : a\n",
      "Enter Valid Age.\n",
      "Execution Continues...\n"
     ]
    }
   ],
   "source": [
    "try:\n",
    "    age = int(input(\"Age : \"))\n",
    "except ValueError:\n",
    "    print(\"Enter Valid Age.\")\n",
    "print(\"Execution Continues...\")"
   ]
  },
  {
   "cell_type": "code",
   "execution_count": 3,
   "id": "69779de5",
   "metadata": {},
   "outputs": [
    {
     "name": "stdout",
     "output_type": "stream",
     "text": [
      "Age : 10\n",
      "No Exceptions were thrown\n"
     ]
    }
   ],
   "source": [
    "try:\n",
    "    age = int(input(\"Age : \"))\n",
    "except ValueError:\n",
    "    print(\"Enter Valid Age.\")\n",
    "else:\n",
    "    print(\"No Exceptions were thrown\")"
   ]
  },
  {
   "cell_type": "code",
   "execution_count": 4,
   "id": "34e20e18",
   "metadata": {},
   "outputs": [
    {
     "name": "stdout",
     "output_type": "stream",
     "text": [
      "Age : a\n",
      "Enter Valid Age.\n",
      "invalid literal for int() with base 10: 'a'\n",
      "<class 'ValueError'>\n"
     ]
    }
   ],
   "source": [
    "try:\n",
    "    age = int(input(\"Age : \"))\n",
    "except ValueError as ex:\n",
    "    print(\"Enter Valid Age.\")\n",
    "    print(ex)\n",
    "    print(type(ex))\n",
    "else:\n",
    "    print(\"No Exceptions were thrown\")"
   ]
  },
  {
   "cell_type": "code",
   "execution_count": null,
   "id": "732c7201",
   "metadata": {},
   "outputs": [],
   "source": []
  }
 ],
 "metadata": {
  "kernelspec": {
   "display_name": "Python 3 (ipykernel)",
   "language": "python",
   "name": "python3"
  },
  "language_info": {
   "codemirror_mode": {
    "name": "ipython",
    "version": 3
   },
   "file_extension": ".py",
   "mimetype": "text/x-python",
   "name": "python",
   "nbconvert_exporter": "python",
   "pygments_lexer": "ipython3",
   "version": "3.9.7"
  }
 },
 "nbformat": 4,
 "nbformat_minor": 5
}
